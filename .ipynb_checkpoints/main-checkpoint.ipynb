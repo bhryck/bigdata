{
 "cells": [
  {
   "cell_type": "code",
   "execution_count": 1,
   "metadata": {
    "pycharm": {
     "is_executing": true
    }
   },
   "outputs": [
    {
     "name": "stdout",
     "output_type": "stream",
     "text": [
      "(8991, 1024)\n"
     ]
    }
   ],
   "source": [
    "import pandas as pd\n",
    "from sklearn.model_selection import train_test_split\n",
    "from sklearn.linear_model import LogisticRegression\n",
    "from sklearn.svm import SVC\n",
    "from sklearn.neural_network import MLPClassifier\n",
    "from sklearn.model_selection import cross_val_score\n",
    "from sklearn.metrics import f1_score,balanced_accuracy_score\n",
    "from sklearn.model_selection import GridSearchCV\n",
    "from sklearn.metrics import confusion_matrix\n",
    "from sklearn.ensemble import StackingClassifier\n",
    "from sklearn.tree import DecisionTreeClassifier\n",
    "from sklearn.cross_decomposition import PLSRegression\n",
    "from sklearn.model_selection import KFold\n",
    "\n",
    "df = pd.read_csv('qsar_oral_toxicity.csv', delimiter=';')\n",
    "df = df.replace('negative', 0)\n",
    "df = df.replace('positive', 1)\n",
    "x, y = df.iloc[:, :-1], df.iloc[:, [-1]]\n",
    "print(x.shape)"
   ]
  },
  {
   "cell_type": "code",
   "execution_count": 2,
   "metadata": {
    "pycharm": {
     "is_executing": true
    }
   },
   "outputs": [],
   "source": [
    "X_train, X_test, y_train, y_test = train_test_split(x, y, test_size=0.2, random_state=42, stratify=y)"
   ]
  },
  {
   "cell_type": "code",
   "execution_count": 3,
   "metadata": {
    "pycharm": {
     "is_executing": true,
     "name": "#%%\n"
    }
   },
   "outputs": [],
   "source": [
    "# place for feature selection such as using selectkbest or RFECV\n"
   ]
  },
  {
   "cell_type": "code",
   "execution_count": null,
   "metadata": {},
   "outputs": [],
   "source": []
  },
  {
   "cell_type": "code",
   "execution_count": 4,
   "metadata": {
    "pycharm": {
     "is_executing": true,
     "name": "#%%\n"
    }
   },
   "outputs": [],
   "source": [
    "# initialize models\n",
    "logreg = LogisticRegression(max_iter=10000)\n",
    "svm = SVC()\n",
    "mlpc = MLPClassifier()\n",
    "estimators =[('logreg',logreg),('svm',svm),('mlpc',mlpc)]\n",
    "Stackedclf = StackingClassifier(estimators=estimators, final_estimator=DecisionTreeClassifier())"
   ]
  },
  {
   "cell_type": "code",
   "execution_count": 5,
   "metadata": {},
   "outputs": [],
   "source": [
    "#Grid search parameters\n",
    "svm_param_grid = {'C': [0.01, 1, 10, ], 'gamma': [1,0.1, 0.01],'kernel': [ 'sigmoid','linear']}\n",
    "svmGSCV =  GridSearchCV(SVC(),svm_param_grid,refit=True,verbose=2, scoring =\"balanced_accuracy\")"
   ]
  },
  {
   "cell_type": "code",
   "execution_count": 6,
   "metadata": {},
   "outputs": [],
   "source": [
    "# add the models to this list to automate evaluation\n",
    "models = [logreg,mlpc, svm, Stackedclf]"
   ]
  },
  {
   "cell_type": "code",
   "execution_count": null,
   "metadata": {
    "pycharm": {
     "is_executing": true,
     "name": "#%%\n"
    }
   },
   "outputs": [
    {
     "name": "stdout",
     "output_type": "stream",
     "text": [
      "model balanced_accuracy:  0.6829191289333494\n",
      "model balanced_accuracy:  0.7300457427591851\n",
      "model balanced_accuracy:  0.6425780070868857\n"
     ]
    }
   ],
   "source": [
    "# cross validate and evaluation loop\n",
    "for model in models:\n",
    "    scores = cross_val_score(model, X_train, y_train.values.ravel(), cv=5, scoring='balanced_accuracy',error_score='raise')\n",
    "    print(\"model balanced_accuracy: \", scores.mean())"
   ]
  },
  {
   "cell_type": "code",
   "execution_count": null,
   "metadata": {},
   "outputs": [],
   "source": [
    "kf = KFold(n_splits=5)\n",
    "scores = []\n",
    "for i, j in kf.split(x, y):\n",
    "    X_train, y_train = x.iloc[i], y.iloc[i]\n",
    "    X_test, y_test = x.iloc[j], y.iloc[j]\n",
    "    scores.append((balanced_accuracy_score(y_test,pls_da(X_train,y_train, X_test) )))\n",
    "print(sum(scores)/len(scores))"
   ]
  },
  {
   "cell_type": "code",
   "execution_count": null,
   "metadata": {},
   "outputs": [],
   "source": [
    "#fit best estimator for gridsearch if necessary \n"
   ]
  },
  {
   "cell_type": "code",
   "execution_count": null,
   "metadata": {
    "pycharm": {
     "is_executing": true,
     "name": "#%%\n"
    }
   },
   "outputs": [],
   "source": [
    "# fit using test data for final evaluation\n",
    "for model in models:\n",
    "    model.fit(X_train,y_train.values.ravel())\n",
    "    y_pred = model.predict(X_test)\n",
    "    print(balanced_accuracy_score(y_test, y_pred))\n",
    "    print(confusion_matrix(y_test,y_pred))\n"
   ]
  },
  {
   "cell_type": "code",
   "execution_count": null,
   "metadata": {
    "pycharm": {
     "is_executing": true,
     "name": "#%%\n"
    }
   },
   "outputs": [],
   "source": []
  },
  {
   "cell_type": "code",
   "execution_count": null,
   "metadata": {
    "pycharm": {
     "is_executing": true
    }
   },
   "outputs": [],
   "source": []
  },
  {
   "cell_type": "code",
   "execution_count": null,
   "metadata": {
    "pycharm": {
     "is_executing": true
    }
   },
   "outputs": [],
   "source": []
  },
  {
   "cell_type": "code",
   "execution_count": null,
   "metadata": {
    "pycharm": {
     "is_executing": true
    }
   },
   "outputs": [],
   "source": []
  },
  {
   "cell_type": "code",
   "execution_count": null,
   "metadata": {
    "pycharm": {
     "is_executing": true
    }
   },
   "outputs": [],
   "source": []
  },
  {
   "cell_type": "code",
   "execution_count": null,
   "metadata": {
    "pycharm": {
     "is_executing": true
    }
   },
   "outputs": [],
   "source": []
  }
 ],
 "metadata": {
  "kernelspec": {
   "display_name": "Python 3 (ipykernel)",
   "language": "python",
   "name": "python3"
  },
  "language_info": {
   "codemirror_mode": {
    "name": "ipython",
    "version": 3
   },
   "file_extension": ".py",
   "mimetype": "text/x-python",
   "name": "python",
   "nbconvert_exporter": "python",
   "pygments_lexer": "ipython3",
   "version": "3.7.0"
  }
 },
 "nbformat": 4,
 "nbformat_minor": 1
}
