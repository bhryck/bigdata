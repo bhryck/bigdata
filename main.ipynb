{
 "cells": [
  {
   "cell_type": "code",
   "execution_count": 55,
   "metadata": {},
   "outputs": [],
   "source": [
    "import pandas as pd\n",
    "from sklearn.model_selection import train_test_split\n",
    "from sklearn.linear_model import LogisticRegression\n",
    "from sklearn.svm import SVC\n",
    "from sklearn.neural_network import MLPClassifier\n",
    "from sklearn.model_selection import cross_val_score\n",
    "from sklearn.metrics import f1_score\n",
    "\n",
    "df = pd.read_csv('qsar_oral_toxicity.csv', delimiter=';')\n",
    "df = df.replace('negative', 0)\n",
    "df = df.replace('positive', 1)\n",
    "x, y = df.iloc[:, :-1], df.iloc[:, [-1]]\n"
   ]
  },
  {
   "cell_type": "code",
   "execution_count": 56,
   "metadata": {},
   "outputs": [],
   "source": [
    "X_train, X_test, y_train, y_test = train_test_split(x, y, test_size=0.2, random_state=0)"
   ]
  },
  {
   "cell_type": "code",
   "execution_count": null,
   "outputs": [],
   "source": [
    "# place for feature selection such as using selectkbest or RFECV\n"
   ],
   "metadata": {
    "collapsed": false,
    "pycharm": {
     "name": "#%%\n"
    }
   }
  },
  {
   "cell_type": "code",
   "execution_count": null,
   "outputs": [],
   "source": [
    "# initialize models\n",
    "logreg = LogisticRegression(max_iter=10000)\n",
    "svm = SVC()\n",
    "mlpc = MLPClassifier()\n",
    "\n",
    "# add the models to this list to automate evaluation\n",
    "models = [logreg,mlpc, svm]"
   ],
   "metadata": {
    "collapsed": false,
    "pycharm": {
     "name": "#%%\n"
    }
   }
  },
  {
   "cell_type": "code",
   "execution_count": null,
   "outputs": [],
   "source": [
    "# cross validate and evaluation loop\n",
    "for model in models:\n",
    "    scores = cross_val_score(model, X_train, y_train.values.ravel(), cv=5, scoring='f1',error_score='raise')\n",
    "    print(\"model f1 score: \", scores.mean())\n"
   ],
   "metadata": {
    "collapsed": false,
    "pycharm": {
     "name": "#%%\n"
    }
   }
  },
  {
   "cell_type": "code",
   "execution_count": null,
   "outputs": [],
   "source": [
    "# fit using test data for final evaluation\n",
    "for model in models:\n",
    "    model.fit(X_train,y_train.values.ravel())\n",
    "    y_pred = model.predict(X_test)\n",
    "    print(f1_score(y_test, y_pred, average=\"micro\"))"
   ],
   "metadata": {
    "collapsed": false,
    "pycharm": {
     "name": "#%%\n"
    }
   }
  },
  {
   "cell_type": "code",
   "execution_count": null,
   "outputs": [],
   "source": [],
   "metadata": {
    "collapsed": false,
    "pycharm": {
     "name": "#%%\n"
    }
   }
  },
  {
   "cell_type": "code",
   "execution_count": 57,
   "metadata": {},
   "outputs": [],
   "source": []
  },
  {
   "cell_type": "code",
   "execution_count": 60,
   "metadata": {},
   "outputs": [],
   "source": [
    "# initialize models\n",
    "logreg = LogisticRegression(max_iter=10000)\n",
    "svm = SVC()\n",
    "mlpc = MLPClassifier()\n",
    "\n",
    "# add the models to this list to automate evaluation\n",
    "models = [logreg,mlpc, svm]"
   ]
  },
  {
   "cell_type": "code",
   "execution_count": 61,
   "metadata": {},
   "outputs": [
    {
     "name": "stdout",
     "output_type": "stream",
     "text": [
      "model:  :  0.47164328822481816\n",
      "model:  :  0.5586425526732433\n",
      "model:  :  0.4649576005090248\n"
     ]
    }
   ],
   "source": [
    "# cross validate and evaluation loop\n",
    "for model in models:\n",
    "    scores = cross_val_score(model, X_train, y_train.values.ravel(), cv=5, scoring='f1',error_score='raise')\n",
    "    print(\"model f1 score: \", scores.mean())\n"
   ]
  },
  {
   "cell_type": "code",
   "execution_count": 62,
   "metadata": {},
   "outputs": [
    {
     "name": "stdout",
     "output_type": "stream",
     "text": [
      "0.9266259032795998\n",
      "0.9455252918287937\n",
      "0.9388549193996665\n"
     ]
    }
   ],
   "source": [
    "# fit using test data for final evaluation\n",
    "for model in models:\n",
    "    model.fit(X_train,y_train.values.ravel())\n",
    "    y_pred = model.predict(X_test)\n",
    "    print(f1_score(y_test, y_pred, average=\"micro\"))"
   ]
  },
  {
   "cell_type": "code",
   "execution_count": null,
   "metadata": {},
   "outputs": [],
   "source": []
  }
 ],
 "metadata": {
  "kernelspec": {
   "display_name": "Python 3 (ipykernel)",
   "language": "python",
   "name": "python3"
  },
  "language_info": {
   "codemirror_mode": {
    "name": "ipython",
    "version": 3
   },
   "file_extension": ".py",
   "mimetype": "text/x-python",
   "name": "python",
   "nbconvert_exporter": "python",
   "pygments_lexer": "ipython3",
   "version": "3.7.0"
  }
 },
 "nbformat": 4,
 "nbformat_minor": 1
}